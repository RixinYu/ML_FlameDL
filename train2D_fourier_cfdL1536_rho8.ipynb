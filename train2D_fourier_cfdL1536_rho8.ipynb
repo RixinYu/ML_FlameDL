{
 "cells": [
  {
   "cell_type": "code",
   "execution_count": 1,
   "metadata": {
    "scrolled": true
   },
   "outputs": [
    {
     "name": "stdout",
     "output_type": "stream",
     "text": [
      "----- params for DataGen -----\n",
      "nDIM,T_in,T_out,Nx,nStep,nStepSkip,data_channel, data_sys.sysname, data_sys.list_nu, data_sys.list_cfdfilename\n",
      "------------------------------\n",
      "['L1536_rho8']\n",
      "Ny_actual= 819 ; yB/(pi)= [-0.7         2.49921875] , AspectRatio_set= 1\n",
      "...............................................................................................................................................................................................................................................................................................................................................................................................................................................................................................................................................................................................................................................................................................................................27.509228229522705 [s]\n",
      "Done for  ./Data_PRE_LaminarFlame/L1536_rho8.pkl\n",
      "np.tanh is applied\n",
      "sequence_disp.shape, sequence_disp_test.shape,sequence_nu.shape,sequence_nu_test.shape\n",
      "(695, 9, 512, 819) (1, 9, 512, 819) (695, 2) (1, 2)\n",
      "train_disp.shape, test_disp.shape, train_PDEpara.shape,test_PDEpara.shape\n",
      "torch.Size([695, 512, 819, 9]) torch.Size([1, 512, 819, 9]) torch.Size([695, 2]) torch.Size([1, 2])\n",
      "preprocessing finished, time used: 65.57030222378671\n"
     ]
    }
   ],
   "source": [
    "import torch\n",
    "import numpy as np\n",
    "import matplotlib.pyplot as plt\n",
    "from flame_net.FourierOp_Nd import FourierOp_Nd\n",
    "from flame_net.DeepONet_1d import DeepONet_1d\n",
    "from flame_net.ConvPDE_Nd import ConvPDE_Nd\n",
    "from flame_net.lib_uti import Cdata_sys, count_learnable_params, lib_Model,lib_DataGen,LpLoss,lib_ModelTrain\n",
    "from timeit import default_timer\n",
    "\n",
    "#-----------------------\n",
    "device = torch.device('cuda') # if torch.cuda.is_available() else 'cpu')\n",
    "\n",
    "\n",
    "#-----------------------\n",
    "nDIM = 2\n",
    "#data_sys = Cdata_sys('siva',[0.07])\n",
    "data_sys = Cdata_sys('cfd',['L1536_rho8'])\n",
    "params = lib_Model.set_default_params(data_sys,nDIM)\n",
    "\n",
    "#--------------------------------\n",
    "params['data:nStep']  = 1\n",
    "params['data:nStepSkip']=1\n",
    "\n",
    "params['T_in' ] = 1\n",
    "params['T_out'] = 8\n",
    "params['data_channel'] = 1\n",
    "#params['data:yB_estimate']=np.array([-0.8, 2.4]) * np.pi\n",
    "params['data:yB_estimate']=np.array([-0.7, 2.5]) * np.pi\n",
    "params['data:AspectRatio_set'] = 1\n",
    "\n",
    "params['Nx']            =512\n",
    "\n",
    "#-----\n",
    "params['train:batch_size'] = 5\n",
    "\n",
    "#-----------\n",
    "model_name = 'fourier'\n",
    "params['fourier:modes_fourier' ] = [64,64]\n",
    "params['fourier:width' ] = 20\n",
    "params['fourier:depth' ] = 4\n",
    "#---------------------------------------------\n",
    "\n",
    "\n",
    "train_disp, test_disp, train_PDEpara, test_PDEpara = lib_DataGen.DataGen(data_sys,params)\n",
    "\n",
    "\n"
   ]
  },
  {
   "cell_type": "code",
   "execution_count": 2,
   "metadata": {},
   "outputs": [
    {
     "data": {
      "text/plain": [
       "<matplotlib.contour.QuadContourSet at 0x2b44341cf7c0>"
      ]
     },
     "execution_count": 2,
     "metadata": {},
     "output_type": "execute_result"
    },
    {
     "data": {
      "image/png": "[encoded data removed]",
      "text/plain": [
       "<Figure size 360x288 with 1 Axes>"
      ]
     },
     "metadata": {
      "needs_background": "light"
     },
     "output_type": "display_data"
    }
   ],
   "source": [
    "%matplotlib inline\n",
    "plt.figure(figsize=[5,4])\n",
    "plt.contourf(  train_disp[-1,:,:,-1]  )"
   ]
  },
  {
   "cell_type": "code",
   "execution_count": 3,
   "metadata": {},
   "outputs": [
    {
     "name": "stdout",
     "output_type": "stream",
     "text": [
      "Fourier2D_m64_64w20cfdL1536_rho8_share_skip\n",
      "count_learnable_params= 6556877\n"
     ]
    }
   ],
   "source": [
    "model_name_detail = lib_Model.get_model_name_detail(model_name,data_sys,params)\n",
    "model = lib_Model.build_model(model_name_detail,params)"
   ]
  },
  {
   "cell_type": "code",
   "execution_count": 4,
   "metadata": {},
   "outputs": [
    {
     "name": "stdout",
     "output_type": "stream",
     "text": [
      "batch_size= 5\n",
      "ntrain= 695  ,ntest= 1\n",
      "train_l2_indentity= tensor(0.2183) ,  test_l2_indentity= tensor(0.2507)\n",
      "...........................................................................................................................................\n",
      "ep t[s] trainErr_norm testErr_norm train_l2 test_l2 train_l2_step test_l2_step train_rel_ind test_rel_ind \n",
      "0, 234.50, 1.000, 0.642, 0.204, 0.131, 0.202, 0.130, 0.935, 0.523\n",
      "............."
     ]
    },
    {
     "ename": "KeyboardInterrupt",
     "evalue": "",
     "output_type": "error",
     "traceback": [
      "\u001b[0;31m---------------------------------------------------------------------------\u001b[0m",
      "\u001b[0;31mKeyboardInterrupt\u001b[0m                         Traceback (most recent call last)",
      "\u001b[0;32m<ipython-input-4-c52930cf8b5a>\u001b[0m in \u001b[0;36m<module>\u001b[0;34m\u001b[0m\n\u001b[0;32m----> 1\u001b[0;31m \u001b[0mlib_ModelTrain\u001b[0m\u001b[0;34m.\u001b[0m\u001b[0mTrain\u001b[0m\u001b[0;34m(\u001b[0m\u001b[0mtrain_disp\u001b[0m\u001b[0;34m,\u001b[0m \u001b[0mtest_disp\u001b[0m\u001b[0;34m,\u001b[0m\u001b[0mtrain_PDEpara\u001b[0m\u001b[0;34m,\u001b[0m\u001b[0mtest_PDEpara\u001b[0m\u001b[0;34m,\u001b[0m\u001b[0mmodel\u001b[0m\u001b[0;34m,\u001b[0m\u001b[0mmodel_name_detail\u001b[0m\u001b[0;34m,\u001b[0m\u001b[0mdevice\u001b[0m\u001b[0;34m,\u001b[0m\u001b[0mparams\u001b[0m \u001b[0;34m)\u001b[0m\u001b[0;34m\u001b[0m\u001b[0;34m\u001b[0m\u001b[0m\n\u001b[0m",
      "\u001b[0;32m/cephyr/NOBACKUP/groups/ml_flame/ml_flame2022/flame_net/lib_uti.py\u001b[0m in \u001b[0;36mTrain\u001b[0;34m(train_disp, test_disp, train_PDEpara, test_PDEpara, model, model_name_detail, device, params)\u001b[0m\n\u001b[1;32m    576\u001b[0m                 \u001b[0moptimizer\u001b[0m\u001b[0;34m.\u001b[0m\u001b[0mzero_grad\u001b[0m\u001b[0;34m(\u001b[0m\u001b[0;34m)\u001b[0m\u001b[0;34m\u001b[0m\u001b[0;34m\u001b[0m\u001b[0m\n\u001b[1;32m    577\u001b[0m                 \u001b[0;31m# loss.backward()\u001b[0m\u001b[0;34m\u001b[0m\u001b[0;34m\u001b[0m\u001b[0;34m\u001b[0m\u001b[0m\n\u001b[0;32m--> 578\u001b[0;31m                 \u001b[0ml2_full\u001b[0m\u001b[0;34m.\u001b[0m\u001b[0mbackward\u001b[0m\u001b[0;34m(\u001b[0m\u001b[0;34m)\u001b[0m\u001b[0;34m\u001b[0m\u001b[0;34m\u001b[0m\u001b[0m\n\u001b[0m\u001b[1;32m    579\u001b[0m                 \u001b[0moptimizer\u001b[0m\u001b[0;34m.\u001b[0m\u001b[0mstep\u001b[0m\u001b[0;34m(\u001b[0m\u001b[0;34m)\u001b[0m\u001b[0;34m\u001b[0m\u001b[0;34m\u001b[0m\u001b[0m\n\u001b[1;32m    580\u001b[0m \u001b[0;34m\u001b[0m\u001b[0m\n",
      "\u001b[0;32m/apps/Alvis/software/PyTorch/1.9.0-fosscuda-2020b/lib/python3.8/site-packages/torch/_tensor.py\u001b[0m in \u001b[0;36mbackward\u001b[0;34m(self, gradient, retain_graph, create_graph, inputs)\u001b[0m\n\u001b[1;32m    253\u001b[0m                 \u001b[0mcreate_graph\u001b[0m\u001b[0;34m=\u001b[0m\u001b[0mcreate_graph\u001b[0m\u001b[0;34m,\u001b[0m\u001b[0;34m\u001b[0m\u001b[0;34m\u001b[0m\u001b[0m\n\u001b[1;32m    254\u001b[0m                 inputs=inputs)\n\u001b[0;32m--> 255\u001b[0;31m         \u001b[0mtorch\u001b[0m\u001b[0;34m.\u001b[0m\u001b[0mautograd\u001b[0m\u001b[0;34m.\u001b[0m\u001b[0mbackward\u001b[0m\u001b[0;34m(\u001b[0m\u001b[0mself\u001b[0m\u001b[0;34m,\u001b[0m \u001b[0mgradient\u001b[0m\u001b[0;34m,\u001b[0m \u001b[0mretain_graph\u001b[0m\u001b[0;34m,\u001b[0m \u001b[0mcreate_graph\u001b[0m\u001b[0;34m,\u001b[0m \u001b[0minputs\u001b[0m\u001b[0;34m=\u001b[0m\u001b[0minputs\u001b[0m\u001b[0;34m)\u001b[0m\u001b[0;34m\u001b[0m\u001b[0;34m\u001b[0m\u001b[0m\n\u001b[0m\u001b[1;32m    256\u001b[0m \u001b[0;34m\u001b[0m\u001b[0m\n\u001b[1;32m    257\u001b[0m     \u001b[0;32mdef\u001b[0m \u001b[0mregister_hook\u001b[0m\u001b[0;34m(\u001b[0m\u001b[0mself\u001b[0m\u001b[0;34m,\u001b[0m \u001b[0mhook\u001b[0m\u001b[0;34m)\u001b[0m\u001b[0;34m:\u001b[0m\u001b[0;34m\u001b[0m\u001b[0;34m\u001b[0m\u001b[0m\n",
      "\u001b[0;32m/apps/Alvis/software/PyTorch/1.9.0-fosscuda-2020b/lib/python3.8/site-packages/torch/autograd/__init__.py\u001b[0m in \u001b[0;36mbackward\u001b[0;34m(tensors, grad_tensors, retain_graph, create_graph, grad_variables, inputs)\u001b[0m\n\u001b[1;32m    145\u001b[0m         \u001b[0mretain_graph\u001b[0m \u001b[0;34m=\u001b[0m \u001b[0mcreate_graph\u001b[0m\u001b[0;34m\u001b[0m\u001b[0;34m\u001b[0m\u001b[0m\n\u001b[1;32m    146\u001b[0m \u001b[0;34m\u001b[0m\u001b[0m\n\u001b[0;32m--> 147\u001b[0;31m     Variable._execution_engine.run_backward(\n\u001b[0m\u001b[1;32m    148\u001b[0m         \u001b[0mtensors\u001b[0m\u001b[0;34m,\u001b[0m \u001b[0mgrad_tensors_\u001b[0m\u001b[0;34m,\u001b[0m \u001b[0mretain_graph\u001b[0m\u001b[0;34m,\u001b[0m \u001b[0mcreate_graph\u001b[0m\u001b[0;34m,\u001b[0m \u001b[0minputs\u001b[0m\u001b[0;34m,\u001b[0m\u001b[0;34m\u001b[0m\u001b[0;34m\u001b[0m\u001b[0m\n\u001b[1;32m    149\u001b[0m         allow_unreachable=True, accumulate_grad=True)  # allow_unreachable flag\n",
      "\u001b[0;31mKeyboardInterrupt\u001b[0m: "
     ]
    }
   ],
   "source": [
    "\n",
    "lib_ModelTrain.Train(train_disp, test_disp,train_PDEpara,test_PDEpara,model,model_name_detail,device,params )\n"
   ]
  },
  {
   "cell_type": "code",
   "execution_count": null,
   "metadata": {},
   "outputs": [],
   "source": []
  }
 ],
 "metadata": {
  "kernelspec": {
   "display_name": "Python 3",
   "language": "python",
   "name": "python3"
  },
  "language_info": {
   "codemirror_mode": {
    "name": "ipython",
    "version": 3
   },
   "file_extension": ".py",
   "mimetype": "text/x-python",
   "name": "python",
   "nbconvert_exporter": "python",
   "pygments_lexer": "ipython3",
   "version": "3.8.6"
  }
 },
 "nbformat": 4,
 "nbformat_minor": 2
}
