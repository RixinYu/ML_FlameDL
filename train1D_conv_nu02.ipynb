{
 "cells": [
  {
   "cell_type": "code",
   "execution_count": 1,
   "metadata": {
    "scrolled": true
   },
   "outputs": [
    {
     "name": "stdout",
     "output_type": "stream",
     "text": [
      "----- params for DataGen -----\n",
      "nDIM,T_in,T_out,Nx,nStep,nStepSkip,data_channel, data_sys.sysname, data_sys.list_nu, data_sys.list_cfdfilename\n",
      "------------------------------\n",
      "N= 512 ,dt_Output= 0.015 ,nu_list = [0.02] ,nu_extention_list = [0.02] ,NumOutPut_dt= [37]\n",
      "ActiveNoise_Amplitude=0.000000,stepfeq=1,k = 0 \n",
      "[(1, 200001, 0.02, 'rand_FFT_2_8'), (500, 201, 0.02, 'rand_FFT_2_8'), (500, 201, 0.02, 'rand_simple')]\n",
      "num_traj= 1  leq_seq= 200001  nu= 0.02   rand_FFT_2_8\n",
      "Sucess: load ./data/dsol_multraj1L200001_nu02_N512_dt015_rand_FFT_2_8.pkl\n",
      "num_traj= 500  leq_seq= 201  nu= 0.02   rand_FFT_2_8\n",
      "Sucess: load ./data/dsol_multraj500L201_nu02_N512_dt015_rand_FFT_2_8.pkl\n",
      "num_traj= 500  leq_seq= 201  nu= 0.02   rand_simple\n",
      "Sucess: load ./data/dsol_multraj500L201_nu02_N512_dt015_rand_simple.pkl\n",
      "[(1, 20001, 0.02, 'rand_FFT_2_8'), (50, 201, 0.02, 'rand_FFT_2_8'), (50, 201, 0.02, 'rand_simple')]\n",
      "num_traj= 1  leq_seq= 20001  nu= 0.02   rand_FFT_2_8\n",
      "Sucess: load ./data/dsol_multraj1L20001_nu02_N512_dt015_rand_FFT_2_8.pkl\n",
      "num_traj= 50  leq_seq= 201  nu= 0.02   rand_FFT_2_8\n",
      "Sucess: load ./data/dsol_multraj50L201_nu02_N512_dt015_rand_FFT_2_8.pkl\n",
      "num_traj= 50  leq_seq= 201  nu= 0.02   rand_simple\n",
      "Sucess: load ./data/dsol_multraj50L201_nu02_N512_dt015_rand_simple.pkl\n",
      "Reorg_xsol:num__split_seq_pierce 9998\n",
      "Reorg_xsol:num__split_seq_pierce 8\n",
      "Reorg_xsol:num__split_seq_pierce 8\n",
      "Reorg_xsol:num__split_seq_pierce 998\n",
      "Reorg_xsol:num__split_seq_pierce 8\n",
      "Reorg_xsol:num__split_seq_pierce 8\n",
      "sequence_disp.shape, sequence_disp_test.shape,sequence_nu.shape,sequence_nu_test.shape\n",
      "(17998, 21, 512) (1798, 21, 512) (17998,) (1798,)\n",
      "train_disp.shape, test_disp.shape, train_PDEpara.shape,test_PDEpara.shape\n",
      "torch.Size([17998, 512, 21]) torch.Size([1798, 512, 21]) torch.Size([17998]) torch.Size([1798])\n",
      "preprocessing finished, time used: 2.556283279089257\n"
     ]
    }
   ],
   "source": [
    "import torch\n",
    "import numpy as np\n",
    "import matplotlib.pyplot as plt\n",
    "from flame_net.FourierOp_Nd import FourierOp_Nd\n",
    "from flame_net.DeepONet_1d import DeepONet_1d\n",
    "from flame_net.ConvPDE_Nd import ConvPDE_Nd\n",
    "from flame_net.lib_uti import Cdata_sys, count_learnable_params, lib_Model,lib_DataGen,LpLoss,lib_ModelTrain\n",
    "from timeit import default_timer\n",
    "\n",
    "#-----------------------\n",
    "device = torch.device('cuda') # if torch.cuda.is_available() else 'cpu')\n",
    "\n",
    "\n",
    "#-----------------------\n",
    "nDIM = 1\n",
    "data_sys = Cdata_sys('siva',[0.02],1)\n",
    "#data_sys = Cdata_sys('cfd',['L1536_rho8'])\n",
    "params = lib_Model.set_default_params(data_sys,nDIM)\n",
    "\n",
    "params['T_in' ] = 1\n",
    "params['T_out'] = 20\n",
    "params['data_channel'] = 1\n",
    "#params['data:yB_estimate']=np.array([-0.7, 1.3]) * np.pi\n",
    "#params['data:yB_estimate']=np.array([-0.8, 2.4]) * np.pi\n",
    "#params['data:yB_estimate']=np.array([-0.7, 2.5]) * np.pi\n",
    "#params['data:AspectRatio_set'] = 1 # (2.5+0.7)/2.\n",
    "params['data:nStep']  = 1\n",
    "params['data:nStepSkip']=1\n",
    "params['Nx']            = 512 # 128\n",
    "#-----\n",
    "params['train:batch_size'] = 1000\n",
    "params['train:learning_rate'] = 0.0025\n",
    "#-----------\n",
    "#model_name = 'fourier'\n",
    "#params['fourier:modes_fourier' ] =  128 #64 #,64]\n",
    "#params['fourier:width' ] =  30 # 20\n",
    "#params['fourier:depth' ] = 4\n",
    "#-------\n",
    "model_name = 'conv'\n",
    "params['conv:method_types_conv'] = 'inception_less'\n",
    "params['conv:en1_channels' ] = [ [16],[32,32],[64,64],[128],[128],[64],[32]] \n",
    "#params['conv:en1_channels' ] = [16,32,64,64,128,64,32,16]\n",
    "\n",
    "\n",
    "#params['conv:en1_channels' ] = [16,32,64,64,128,128,128,128]\n",
    "#params['conv:method_skip' ]= 'width2'\n",
    "#params['conv:method_nonlinear' ]= 'de'\n",
    "#-----\n",
    "#model_name = 'onet'\n",
    "#params['onet:type_branch']='conv'\n",
    "#params['onet:type_branch']='fc'\n",
    "##params['onet:P'] = 50\n",
    "#params['onet:trunk_featurepair']=2\n",
    "#params['onet:type_trunk']='simple'\n",
    "#---------\n",
    "\n",
    "train_disp, test_disp, train_PDEpara, test_PDEpara = lib_DataGen.DataGen(data_sys,params)\n"
   ]
  },
  {
   "cell_type": "code",
   "execution_count": 2,
   "metadata": {},
   "outputs": [],
   "source": [
    "#%matplotlib inline\n",
    "#plt.figure(figsize=[4,4])\n",
    "#plt.contourf(  train_disp[-1,:,:,-1]  )"
   ]
  },
  {
   "cell_type": "code",
   "execution_count": 3,
   "metadata": {},
   "outputs": [
    {
     "name": "stdout",
     "output_type": "stream",
     "text": [
      "Conv_nu02_inception_less_o20\n",
      "ConvPDE_Nd: en_channels =  [[1, 16], [16, 32, 32], [32, 64, 64], [64, 128], [128, 128], [128, 64], [64, 32]]\n",
      "ConvPDE_Nd: de_channels =  [[32, 32], [64, 64], [128, 128], [256, 128], [256, 64], [128, 32], [64, 16], [32, 1]]\n",
      "ConvPDE_Nd: en_types =  [['c'], ['c', 'i'], ['c', 'i'], ['i'], ['c'], ['c'], ['c']]\n",
      "ConvPDE_Nd: de_types =  [['c'], ['c'], ['c'], ['c'], ['c'], ['c'], ['i'], ['c']]\n",
      "count_learnable_params= 339733\n"
     ]
    }
   ],
   "source": [
    "model_name_detail = lib_Model.get_model_name_detail(model_name,data_sys,params)\n",
    "model = lib_Model.build_model(model_name_detail,params)"
   ]
  },
  {
   "cell_type": "code",
   "execution_count": 4,
   "metadata": {},
   "outputs": [
    {
     "name": "stdout",
     "output_type": "stream",
     "text": [
      "batch_size= 700\n",
      "ntrain= 17998  ,ntest= 1798\n",
      "train_l2_indentity= tensor(0.2097) ,  test_l2_indentity= tensor(0.2099)\n"
     ]
    },
    {
     "name": "stderr",
     "output_type": "stream",
     "text": [
      "/apps/Alvis/software/PyTorch/1.9.0-fosscuda-2020b/lib/python3.8/site-packages/torch/nn/functional.py:652: UserWarning: Named tensors and all their associated APIs are an experimental feature and subject to change. Please do not use them for anything important until they are released as stable. (Triggered internally at  ../c10/core/TensorImpl.h:1153.)\n",
      "  return torch.max_pool1d(input, kernel_size, stride, padding, dilation, ceil_mode)\n"
     ]
    },
    {
     "name": "stdout",
     "output_type": "stream",
     "text": [
      "..........................\n",
      "ep t[s] trainErr_norm testErr_norm train_l2 test_l2 train_l2_step test_l2_step train_rel_ind test_rel_ind \n",
      "0, 125.02, 1.000, 0.953, 1.018, 0.970, 1.032, 0.966, 4.852, 4.620\n",
      "..........................\n",
      "1, 123.87, 0.915, 0.850, 0.931, 0.865, 0.922, 0.848, 4.440, 4.120\n",
      "..........................\n",
      "2, 123.96, 0.817, 0.774, 0.831, 0.788, 0.823, 0.790, 3.964, 3.752\n",
      "..........................\n",
      "3, 123.89, 0.738, 0.699, 0.751, 0.712, 0.736, 0.697, 3.580, 3.391\n",
      "..........................\n",
      "4, 123.91, 0.629, 0.572, 0.640, 0.583, 0.624, 0.562, 3.052, 2.775\n",
      "..........................\n",
      "5, 123.87, 0.510, 0.438, 0.519, 0.446, 0.498, 0.418, 2.477, 2.124\n",
      "..........................\n",
      "6, 123.86, 0.410, 0.324, 0.417, 0.330, 0.391, 0.304, 1.990, 1.571\n",
      "...."
     ]
    },
    {
     "ename": "KeyboardInterrupt",
     "evalue": "",
     "output_type": "error",
     "traceback": [
      "\u001b[0;31m---------------------------------------------------------------------------\u001b[0m",
      "\u001b[0;31mKeyboardInterrupt\u001b[0m                         Traceback (most recent call last)",
      "\u001b[0;32m<ipython-input-4-24eaa9014bf3>\u001b[0m in \u001b[0;36m<module>\u001b[0;34m\u001b[0m\n\u001b[1;32m      1\u001b[0m \u001b[0mparams\u001b[0m\u001b[0;34m[\u001b[0m\u001b[0;34m'train:batch_size'\u001b[0m\u001b[0;34m]\u001b[0m \u001b[0;34m=\u001b[0m\u001b[0;36m700\u001b[0m\u001b[0;34m\u001b[0m\u001b[0;34m\u001b[0m\u001b[0m\n\u001b[0;32m----> 2\u001b[0;31m \u001b[0mlib_ModelTrain\u001b[0m\u001b[0;34m.\u001b[0m\u001b[0mTrain\u001b[0m\u001b[0;34m(\u001b[0m\u001b[0mtrain_disp\u001b[0m\u001b[0;34m,\u001b[0m \u001b[0mtest_disp\u001b[0m\u001b[0;34m,\u001b[0m\u001b[0mtrain_PDEpara\u001b[0m\u001b[0;34m,\u001b[0m\u001b[0mtest_PDEpara\u001b[0m\u001b[0;34m,\u001b[0m\u001b[0mmodel\u001b[0m\u001b[0;34m,\u001b[0m\u001b[0mmodel_name_detail\u001b[0m\u001b[0;34m,\u001b[0m\u001b[0mdevice\u001b[0m\u001b[0;34m,\u001b[0m\u001b[0mparams\u001b[0m \u001b[0;34m)\u001b[0m\u001b[0;34m\u001b[0m\u001b[0;34m\u001b[0m\u001b[0m\n\u001b[0m",
      "\u001b[0;32m/cephyr/NOBACKUP/groups/ml_flame/ml_flame2022/flame_net/lib_uti.py\u001b[0m in \u001b[0;36mTrain\u001b[0;34m(train_disp, test_disp, train_PDEpara, test_PDEpara, model, model_name_detail, device, params)\u001b[0m\n\u001b[1;32m    624\u001b[0m                 \u001b[0moptimizer\u001b[0m\u001b[0;34m.\u001b[0m\u001b[0mzero_grad\u001b[0m\u001b[0;34m(\u001b[0m\u001b[0;34m)\u001b[0m\u001b[0;34m\u001b[0m\u001b[0;34m\u001b[0m\u001b[0m\n\u001b[1;32m    625\u001b[0m                 \u001b[0;31m# loss.backward()\u001b[0m\u001b[0;34m\u001b[0m\u001b[0;34m\u001b[0m\u001b[0;34m\u001b[0m\u001b[0m\n\u001b[0;32m--> 626\u001b[0;31m                 \u001b[0ml2_full\u001b[0m\u001b[0;34m.\u001b[0m\u001b[0mbackward\u001b[0m\u001b[0;34m(\u001b[0m\u001b[0;34m)\u001b[0m\u001b[0;34m\u001b[0m\u001b[0;34m\u001b[0m\u001b[0m\n\u001b[0m\u001b[1;32m    627\u001b[0m                 \u001b[0moptimizer\u001b[0m\u001b[0;34m.\u001b[0m\u001b[0mstep\u001b[0m\u001b[0;34m(\u001b[0m\u001b[0;34m)\u001b[0m\u001b[0;34m\u001b[0m\u001b[0;34m\u001b[0m\u001b[0m\n\u001b[1;32m    628\u001b[0m \u001b[0;34m\u001b[0m\u001b[0m\n",
      "\u001b[0;32m/apps/Alvis/software/PyTorch/1.9.0-fosscuda-2020b/lib/python3.8/site-packages/torch/_tensor.py\u001b[0m in \u001b[0;36mbackward\u001b[0;34m(self, gradient, retain_graph, create_graph, inputs)\u001b[0m\n\u001b[1;32m    253\u001b[0m                 \u001b[0mcreate_graph\u001b[0m\u001b[0;34m=\u001b[0m\u001b[0mcreate_graph\u001b[0m\u001b[0;34m,\u001b[0m\u001b[0;34m\u001b[0m\u001b[0;34m\u001b[0m\u001b[0m\n\u001b[1;32m    254\u001b[0m                 inputs=inputs)\n\u001b[0;32m--> 255\u001b[0;31m         \u001b[0mtorch\u001b[0m\u001b[0;34m.\u001b[0m\u001b[0mautograd\u001b[0m\u001b[0;34m.\u001b[0m\u001b[0mbackward\u001b[0m\u001b[0;34m(\u001b[0m\u001b[0mself\u001b[0m\u001b[0;34m,\u001b[0m \u001b[0mgradient\u001b[0m\u001b[0;34m,\u001b[0m \u001b[0mretain_graph\u001b[0m\u001b[0;34m,\u001b[0m \u001b[0mcreate_graph\u001b[0m\u001b[0;34m,\u001b[0m \u001b[0minputs\u001b[0m\u001b[0;34m=\u001b[0m\u001b[0minputs\u001b[0m\u001b[0;34m)\u001b[0m\u001b[0;34m\u001b[0m\u001b[0;34m\u001b[0m\u001b[0m\n\u001b[0m\u001b[1;32m    256\u001b[0m \u001b[0;34m\u001b[0m\u001b[0m\n\u001b[1;32m    257\u001b[0m     \u001b[0;32mdef\u001b[0m \u001b[0mregister_hook\u001b[0m\u001b[0;34m(\u001b[0m\u001b[0mself\u001b[0m\u001b[0;34m,\u001b[0m \u001b[0mhook\u001b[0m\u001b[0;34m)\u001b[0m\u001b[0;34m:\u001b[0m\u001b[0;34m\u001b[0m\u001b[0;34m\u001b[0m\u001b[0m\n",
      "\u001b[0;32m/apps/Alvis/software/PyTorch/1.9.0-fosscuda-2020b/lib/python3.8/site-packages/torch/autograd/__init__.py\u001b[0m in \u001b[0;36mbackward\u001b[0;34m(tensors, grad_tensors, retain_graph, create_graph, grad_variables, inputs)\u001b[0m\n\u001b[1;32m    145\u001b[0m         \u001b[0mretain_graph\u001b[0m \u001b[0;34m=\u001b[0m \u001b[0mcreate_graph\u001b[0m\u001b[0;34m\u001b[0m\u001b[0;34m\u001b[0m\u001b[0m\n\u001b[1;32m    146\u001b[0m \u001b[0;34m\u001b[0m\u001b[0m\n\u001b[0;32m--> 147\u001b[0;31m     Variable._execution_engine.run_backward(\n\u001b[0m\u001b[1;32m    148\u001b[0m         \u001b[0mtensors\u001b[0m\u001b[0;34m,\u001b[0m \u001b[0mgrad_tensors_\u001b[0m\u001b[0;34m,\u001b[0m \u001b[0mretain_graph\u001b[0m\u001b[0;34m,\u001b[0m \u001b[0mcreate_graph\u001b[0m\u001b[0;34m,\u001b[0m \u001b[0minputs\u001b[0m\u001b[0;34m,\u001b[0m\u001b[0;34m\u001b[0m\u001b[0;34m\u001b[0m\u001b[0m\n\u001b[1;32m    149\u001b[0m         allow_unreachable=True, accumulate_grad=True)  # allow_unreachable flag\n",
      "\u001b[0;31mKeyboardInterrupt\u001b[0m: "
     ]
    }
   ],
   "source": [
    "params['train:batch_size'] =700\n",
    "lib_ModelTrain.Train(train_disp, test_disp,train_PDEpara,test_PDEpara,model,model_name_detail,device,params )\n"
   ]
  }
 ],
 "metadata": {
  "kernelspec": {
   "display_name": "Python 3",
   "language": "python",
   "name": "python3"
  },
  "language_info": {
   "codemirror_mode": {
    "name": "ipython",
    "version": 3
   },
   "file_extension": ".py",
   "mimetype": "text/x-python",
   "name": "python",
   "nbconvert_exporter": "python",
   "pygments_lexer": "ipython3",
   "version": "3.8.6"
  }
 },
 "nbformat": 4,
 "nbformat_minor": 2
}
